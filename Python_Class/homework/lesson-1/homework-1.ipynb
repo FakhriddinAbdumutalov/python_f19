{
 "cells": [
  {
   "cell_type": "code",
   "execution_count": 11,
   "metadata": {},
   "outputs": [
    {
     "name": "stdout",
     "output_type": "stream",
     "text": [
      "Perimeter of the rectangle is: 24\n"
     ]
    }
   ],
   "source": [
    "# 1.Given a side of square. Find its perimeter and area.\n",
    "\n",
    "a = 5\n",
    "b = 7\n",
    "perimeter = 2 * (a + b)\n",
    "\n",
    "print(f\"Perimeter of the rectangle is: {perimeter}\")"
   ]
  },
  {
   "cell_type": "code",
   "execution_count": 10,
   "metadata": {},
   "outputs": [
    {
     "name": "stdout",
     "output_type": "stream",
     "text": [
      "Area of the rectangle is: 35\n"
     ]
    }
   ],
   "source": [
    "a = 5\n",
    "b = 7\n",
    "area = a * b\n",
    "\n",
    "print(f\"Area of the rectangle is: {area}\")"
   ]
  },
  {
   "cell_type": "code",
   "execution_count": 8,
   "metadata": {},
   "outputs": [
    {
     "name": "stdout",
     "output_type": "stream",
     "text": [
      "length of the circle is: 31.41592653589793\n"
     ]
    }
   ],
   "source": [
    "# 2. Given diameter of circle. Find its length.\n",
    "\n",
    "import math\n",
    "\n",
    "diameter = 10\n",
    "length = math.pi * diameter\n",
    "\n",
    "print(f\"length of the circle is: {length}\")"
   ]
  },
  {
   "cell_type": "code",
   "execution_count": 6,
   "metadata": {},
   "outputs": [
    {
     "name": "stdout",
     "output_type": "stream",
     "text": [
      "Mean of 6 and 3 is: 4.5\n"
     ]
    }
   ],
   "source": [
    "# 3. Given two numbers a and b. Find their mean.\n",
    "\n",
    "a = 6\n",
    "b = 3\n",
    "\n",
    "mean = (a + b)/2\n",
    "\n",
    "print(f\"Mean of {a} and {b} is: {mean}\")"
   ]
  },
  {
   "cell_type": "code",
   "execution_count": 14,
   "metadata": {},
   "outputs": [
    {
     "name": "stdout",
     "output_type": "stream",
     "text": [
      "Sum of the given numbers is: 15\n",
      "Product of the given numbers is 54\n",
      "Square of a is: 81\n",
      "Square of b is: 36\n"
     ]
    }
   ],
   "source": [
    "# 4. Given two numbers a and b. Find their sum, product and square of each number.\n",
    "\n",
    "a = 9\n",
    "b = 6\n",
    "\n",
    "sum = a + b\n",
    "product = a * b\n",
    "square_a = a ** 2\n",
    "square_b = b ** 2\n",
    "\n",
    "print(f\"Sum of the given numbers is: {sum}\")\n",
    "print(f\"Product of the given numbers is {product}\")\n",
    "print(f\"Square of a is: {square_a}\")\n",
    "print(f\"Square of b is: {square_b}\")"
   ]
  }
 ],
 "metadata": {
  "kernelspec": {
   "display_name": "Python 3",
   "language": "python",
   "name": "python3"
  },
  "language_info": {
   "codemirror_mode": {
    "name": "ipython",
    "version": 3
   },
   "file_extension": ".py",
   "mimetype": "text/x-python",
   "name": "python",
   "nbconvert_exporter": "python",
   "pygments_lexer": "ipython3",
   "version": "3.11.9"
  }
 },
 "nbformat": 4,
 "nbformat_minor": 2
}
