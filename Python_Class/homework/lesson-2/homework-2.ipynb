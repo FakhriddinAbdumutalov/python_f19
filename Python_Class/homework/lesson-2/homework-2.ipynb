{
 "cells": [
  {
   "cell_type": "markdown",
   "metadata": {},
   "source": [
    "1. Age Calculator"
   ]
  },
  {
   "cell_type": "code",
   "execution_count": 20,
   "metadata": {},
   "outputs": [
    {
     "name": "stdout",
     "output_type": "stream",
     "text": [
      "Hello, Fakhriddin! You are 23 years old.\n"
     ]
    }
   ],
   "source": [
    "# Write a Python program to ask for a user's name and year of birth, then calculate and display their age.\n",
    "\n",
    "name = input(\"Please enter your name\")\n",
    "year_of_birth = int(input(\"Please enter your year of birth\"))\n",
    "current_year = int (input(\"Please enter current year\"))\n",
    "age = current_year - year_of_birth\n",
    "print(f\"Hello, {name}! You are {age} years old.\")\n"
   ]
  },
  {
   "cell_type": "markdown",
   "metadata": {},
   "source": [
    "2. Extract Car Names"
   ]
  },
  {
   "cell_type": "code",
   "execution_count": 8,
   "metadata": {},
   "outputs": [
    {
     "name": "stdout",
     "output_type": "stream",
     "text": [
      "First car name is: Lasetti\n",
      "Second car name is: Malibu\n"
     ]
    }
   ],
   "source": [
    "# Extract car names from the following text:\n",
    "\n",
    "txt = 'LMaasleitbtui'\n",
    "\n",
    "txt[::2]\n",
    "txt[1::2]\n",
    "\n",
    "print(f\"First car name is: {txt[::2]}\")\n",
    "print(f\"Second car name is: {txt[1::2]}\")\n",
    "\n"
   ]
  },
  {
   "cell_type": "markdown",
   "metadata": {},
   "source": [
    "3. Extract Car Names"
   ]
  },
  {
   "cell_type": "code",
   "execution_count": 9,
   "metadata": {},
   "outputs": [
    {
     "name": "stdout",
     "output_type": "stream",
     "text": [
      "First name is: Matiz\n",
      "Second name is: Damas\n"
     ]
    }
   ],
   "source": [
    "# Extract car names from the following text:\n",
    "\n",
    "txt = 'MsaatmiazD'\n",
    "\n",
    "txt[::2]\n",
    "txt[::-2]\n",
    "\n",
    "print(f\"First name is: {txt[::2]}\")\n",
    "print(f\"Second name is: {txt[::-2]}\")"
   ]
  },
  {
   "cell_type": "markdown",
   "metadata": {},
   "source": [
    "4. Extract Residence Area"
   ]
  },
  {
   "cell_type": "code",
   "execution_count": 17,
   "metadata": {},
   "outputs": [
    {
     "name": "stdout",
     "output_type": "stream",
     "text": [
      "The residence area is: London\n"
     ]
    }
   ],
   "source": [
    "# Extract the residence area from the following text:\n",
    "\n",
    "txt = \"I'am John. I am from London\"\n",
    "\n",
    "txt[21:]\n",
    "\n",
    "print(f\"The residence area is: {txt[21:]}\")"
   ]
  },
  {
   "cell_type": "markdown",
   "metadata": {},
   "source": [
    "5. Reverse String"
   ]
  },
  {
   "cell_type": "code",
   "execution_count": 24,
   "metadata": {},
   "outputs": [
    {
     "data": {
      "text/plain": [
       "'niddirhkaF'"
      ]
     },
     "execution_count": 24,
     "metadata": {},
     "output_type": "execute_result"
    }
   ],
   "source": [
    "# Write a Python program that takes a user input string and prints it in reverse order.\n",
    "\n",
    "name = input(\"Please enter your name\")\n",
    "name[::-1]"
   ]
  },
  {
   "cell_type": "markdown",
   "metadata": {},
   "source": [
    "6. Count Vowels"
   ]
  },
  {
   "cell_type": "code",
   "execution_count": 28,
   "metadata": {},
   "outputs": [
    {
     "name": "stdout",
     "output_type": "stream",
     "text": [
      "Number of vowels: {3}\n"
     ]
    }
   ],
   "source": [
    "# Write a Python program that counts the number of vowels in a given string.\n",
    "\n",
    "text = input(\"Enter a string: \")  \n",
    "vowels = \"aeiouAEIOU\"  \n",
    "count = sum(1 for char in text if char in vowels)  \n",
    "\n",
    "print(f\"Number of vowels:\", {count})\n"
   ]
  },
  {
   "cell_type": "markdown",
   "metadata": {},
   "source": [
    "7. Find Maximum Value"
   ]
  },
  {
   "cell_type": "code",
   "execution_count": 31,
   "metadata": {},
   "outputs": [
    {
     "name": "stdout",
     "output_type": "stream",
     "text": [
      "Maximum is: 9\n"
     ]
    }
   ],
   "source": [
    "# Write a Python program that takes a list of numbers as input and prints the maximum value.\n",
    "\n",
    "numbers = list(input(\"Please enter numbers: \"))\n",
    "maximum = max(numbers)\n",
    "\n",
    "print(f\"Maximum is: {maximum}\")"
   ]
  },
  {
   "cell_type": "markdown",
   "metadata": {},
   "source": [
    "8. Check Palindrome"
   ]
  },
  {
   "cell_type": "code",
   "execution_count": 36,
   "metadata": {},
   "outputs": [
    {
     "name": "stdout",
     "output_type": "stream",
     "text": [
      "It's a palindrome!\n"
     ]
    }
   ],
   "source": [
    "# Write a Python program that checks if a given word is a palindrome (reads the same forward and backward).\n",
    "\n",
    "word = input(\"Enter a word: \")\n",
    "if  word[::-1]:\n",
    "    print(\"It's a palindrome!\")\n",
    "else:\n",
    "    print(\"It is not a palindrome.\")\n"
   ]
  },
  {
   "cell_type": "markdown",
   "metadata": {},
   "source": [
    "9. Extract Email Domain"
   ]
  },
  {
   "cell_type": "code",
   "execution_count": 38,
   "metadata": {},
   "outputs": [
    {
     "name": "stdout",
     "output_type": "stream",
     "text": [
      "Domain is: mail.ru\n"
     ]
    }
   ],
   "source": [
    "# Write a Python program that extracts and prints the domain from an email address provided by the user.\n",
    "\n",
    "email = input(\"Enter your email: \")\n",
    "domain = email.split(\"@\")[-1]\n",
    "\n",
    "print(f\"Domain is: {domain}\")"
   ]
  },
  {
   "cell_type": "markdown",
   "metadata": {},
   "source": [
    "10. Generate Random Password"
   ]
  },
  {
   "cell_type": "code",
   "execution_count": null,
   "metadata": {},
   "outputs": [
    {
     "data": {
      "text/plain": [
       "'}(SA`=6d'"
      ]
     },
     "execution_count": 40,
     "metadata": {},
     "output_type": "execute_result"
    }
   ],
   "source": [
    "# Write a Python program to generate a random password containing letters, digits, and special characters.\n",
    "\n",
    "import random\n",
    "import string\n",
    "\n",
    "password = ''.join(random.choices(string.ascii_letters + string.digits + string.punctuation, k=8))\n",
    "\n",
    "password\n"
   ]
  }
 ],
 "metadata": {
  "kernelspec": {
   "display_name": "Python 3",
   "language": "python",
   "name": "python3"
  },
  "language_info": {
   "codemirror_mode": {
    "name": "ipython",
    "version": 3
   },
   "file_extension": ".py",
   "mimetype": "text/x-python",
   "name": "python",
   "nbconvert_exporter": "python",
   "pygments_lexer": "ipython3",
   "version": "3.11.9"
  }
 },
 "nbformat": 4,
 "nbformat_minor": 2
}
